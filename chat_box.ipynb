{
 "cells": [
  {
   "cell_type": "code",
   "execution_count": 2,
   "metadata": {},
   "outputs": [
    {
     "name": "stdout",
     "output_type": "stream",
     "text": [
      "Hello, how can I help you?\n",
      "Chatbox: I'm sorry, I'm just a chatbot and I don't have access to weather information. Is there anything else I can assist you with?\n",
      "Chatbox: None\n",
      "Chatbox: None\n",
      "Chatbox: None\n",
      "Chatbox: None\n",
      "Chatbox: Bye\n",
      "Chatbox: Bye\n"
     ]
    }
   ],
   "source": [
    "from nltk.chat.util import Chat, reflections\n",
    "\n",
    "# Define patterns and responses\n",
    "patterns = [\n",
    "    (r\"hi|hello|hey\", [\"Hello!\", \"How can I help you?\"]),\n",
    "    (r\"how.*weather|what.*temperature\", [\"I'm sorry, I'm just a chatbot and I don't have access to weather information. Is there anything else I can assist you with?\"]),\n",
    "    (r\"who.*founder|how.*made|who.*create this .*chat .*box\", [\"I'm sorry, that information is confidential.\"]),\n",
    "    (r\"quit\", [\"Bye\"])  # Corrected the pattern for quitting\n",
    "]\n",
    "\n",
    "# Create a Chat object\n",
    "chat_box = Chat(patterns, reflections)\n",
    "\n",
    "# Start conversation\n",
    "print(\"Hello, how can I help you?\")\n",
    "while True:\n",
    "    user_input = input(\"You: \")\n",
    "    response = chat_box.respond(user_input)\n",
    "    print(f\"Chatbox: {response}\")\n",
    "\n",
    "    if user_input.lower() == \"quit\":\n",
    "        print(\"Chatbox: Bye\")\n",
    "        break"
   ]
  }
 ],
 "metadata": {
  "kernelspec": {
   "display_name": "Python 3",
   "language": "python",
   "name": "python3"
  },
  "language_info": {
   "codemirror_mode": {
    "name": "ipython",
    "version": 3
   },
   "file_extension": ".py",
   "mimetype": "text/x-python",
   "name": "python",
   "nbconvert_exporter": "python",
   "pygments_lexer": "ipython3",
   "version": "3.11.7"
  }
 },
 "nbformat": 4,
 "nbformat_minor": 2
}
